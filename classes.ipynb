{
 "cells": [
  {
   "cell_type": "code",
   "execution_count": null,
   "id": "91aa8cce",
   "metadata": {},
   "outputs": [],
   "source": [
    "import importlib\n",
    "import clases\n",
    "\n",
    "importlib.reload(clases)\n",
    "from clases import AnalizadorVentas"
   ]
  },
  {
   "cell_type": "code",
   "execution_count": 79,
   "id": "7d5b153c",
   "metadata": {},
   "outputs": [
    {
     "name": "stdout",
     "output_type": "stream",
     "text": [
      "Intentando cargar datos desde: classes.csv\n",
      "\n",
      "Carga de datos completada. Total de ventas cargadas: 424\n",
      "\n",
      "Primeras 5 ventas:\n",
      "  1: Venta(ID=1, Producto='Waffle Original', Cantidad=4, PrecioUnitario=16.00, Fecha='6/01/2025', Total=64.00)\n",
      "  2: Venta(ID=2, Producto='Waffle Camote', Cantidad=4, PrecioUnitario=9.00, Fecha='7/01/2025', Total=36.00)\n",
      "  3: Venta(ID=3, Producto='Waffle Lúcuma', Cantidad=4, PrecioUnitario=12.00, Fecha='8/01/2025', Total=48.00)\n",
      "  4: Venta(ID=4, Producto='Waffle de Manzana', Cantidad=4, PrecioUnitario=12.00, Fecha='8/01/2025', Total=48.00)\n",
      "  5: Venta(ID=5, Producto='Pan Mixto', Cantidad=8, PrecioUnitario=12.00, Fecha='8/01/2025', Total=96.00)\n"
     ]
    }
   ],
   "source": [
    "ruta_csv_ventas = 'classes.csv'\n",
    "\n",
    "print(f\"Intentando cargar datos desde: {ruta_csv_ventas}\")\n",
    "\n",
    "AnalizadorVentas.cargar_datos_desde_csv(\n",
    "    ruta_csv_ventas, \n",
    "    separador=';',\n",
    "    codificacion='latin-1')\n",
    "\n",
    "print(f\"\\nCarga de datos completada. Total de ventas cargadas: \"\n",
    "      f\"{len(AnalizadorVentas._todas_las_ventas)}\")\n",
    "\n",
    "print(f\"\\nPrimeras 5 ventas:\")\n",
    "for i, v in enumerate(AnalizadorVentas._todas_las_ventas[:5]):\n",
    "    print(f\"  {i+1}: {v}\")"
   ]
  },
  {
   "cell_type": "code",
   "execution_count": 80,
   "id": "bd43d9e3",
   "metadata": {},
   "outputs": [
    {
     "name": "stdout",
     "output_type": "stream",
     "text": [
      "Instancia creada\n",
      "\n",
      "--- Resultados de los Análisis ---\n",
      "\n",
      "Total de ventas globales: S/. 31831.00\n",
      "\n",
      "Promedio de ventas: S/. 75.07\n",
      "\n",
      "Ventas totales por producto: \n",
      "Muffin de Plátano                  2808\n",
      "Pan Mixto                          2552\n",
      "Min Pao Verde                      1758\n",
      "Muffin Verde                       1644\n",
      "Waffle de Manzana                  1612\n",
      "Muffin Carrot Cake                 1312\n",
      "Torta Grande de Chocolate          1250\n",
      "Pan Integral                       1160\n",
      "Min Pao Arándanos                  1122\n",
      "Muffin Chocolate                   1104\n",
      "Trufa Zanahoria                    1038\n",
      "Min Pao Blanco                      936\n",
      "Waffle Lúcuma                       848\n",
      "Galletas Navidad                    820\n",
      "Keke de Chocolate                   797\n",
      "Pan Blanco                          789\n",
      "Torta Chica de Chocolate            738\n",
      "Galletas de Avena                   688\n",
      "Galletas de Chocolate               676\n",
      "Brownies                            668\n",
      "Pan Camote                          642\n",
      "Waffle Camote                       584\n",
      "Pan de Molde                        584\n",
      "Waffle Original                     556\n",
      "Pan Maiz Morado                     549\n",
      "Cinnamon                            548\n",
      "Barritas de Avena                   401\n",
      "Mix Navidad                         388\n",
      "Mini Torta de Plátano               334\n",
      "Cuchareable Navidad                 316\n",
      "Porción Torta Plátano               270\n",
      "Donuts Sangrientos                  262\n",
      "Árbol Navidad                       260\n",
      "Blondie                             186\n",
      "Mix Galletas y Donuts Halloween     178\n",
      "Helado de Coco                      161\n",
      "Helado de Vainilla                  153\n",
      "Torta Chica de Plátano              124\n",
      "Torta Grande de Plátano             123\n",
      "Helado de Fresa                     119\n",
      "Porción Torta Chocolate             118\n",
      "Keke de Plátano                     117\n",
      "Helado de Maracumango               116\n",
      "Helado de Piña Colada               114\n",
      "Helado de Chocolate                 104\n",
      "Mini Torta de Chocolate             103\n",
      "Helado de Arándanos                 101\n",
      "dtype: int64\n"
     ]
    }
   ],
   "source": [
    "mi_analizador = AnalizadorVentas()\n",
    "\n",
    "print(f\"\\n--- Resultados de los Análisis ---\")\n",
    "\n",
    "# Total de ventas\n",
    "total_global = mi_analizador.obtener_total_ventas()\n",
    "print(f\"\\nTotal de ventas globales: S/. {total_global:.2f}\")\n",
    "\n",
    "# Promedio de ventas\n",
    "promedio_venta = mi_analizador.obtener_venta_promedio()\n",
    "print(f\"\\nPromedio de ventas: S/. {promedio_venta:.2f}\")\n",
    "\n",
    "# Obtener ventas por producto\n",
    "ventas_por_producto = mi_analizador.obtener_ventas_por_producto()\n",
    "print(f\"\\nVentas totales por producto: \")\n",
    "print(ventas_por_producto)"
   ]
  }
 ],
 "metadata": {
  "kernelspec": {
   "display_name": "venv",
   "language": "python",
   "name": "python3"
  },
  "language_info": {
   "codemirror_mode": {
    "name": "ipython",
    "version": 3
   },
   "file_extension": ".py",
   "mimetype": "text/x-python",
   "name": "python",
   "nbconvert_exporter": "python",
   "pygments_lexer": "ipython3",
   "version": "3.13.3"
  }
 },
 "nbformat": 4,
 "nbformat_minor": 5
}
