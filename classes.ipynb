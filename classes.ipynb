{
 "cells": [
  {
   "cell_type": "code",
   "execution_count": 21,
   "id": "91aa8cce",
   "metadata": {},
   "outputs": [],
   "source": [
    "import pandas as pd\n",
    "import numpy as np\n",
    "from clases import Venta"
   ]
  },
  {
   "cell_type": "code",
   "execution_count": 22,
   "id": "7d5b153c",
   "metadata": {},
   "outputs": [
    {
     "data": {
      "text/html": [
       "<div>\n",
       "<style scoped>\n",
       "    .dataframe tbody tr th:only-of-type {\n",
       "        vertical-align: middle;\n",
       "    }\n",
       "\n",
       "    .dataframe tbody tr th {\n",
       "        vertical-align: top;\n",
       "    }\n",
       "\n",
       "    .dataframe thead th {\n",
       "        text-align: right;\n",
       "    }\n",
       "</style>\n",
       "<table border=\"1\" class=\"dataframe\">\n",
       "  <thead>\n",
       "    <tr style=\"text-align: right;\">\n",
       "      <th></th>\n",
       "      <th>id_venta</th>\n",
       "      <th>producto</th>\n",
       "      <th>cantidad</th>\n",
       "      <th>precio_unitario</th>\n",
       "      <th>fecha</th>\n",
       "    </tr>\n",
       "  </thead>\n",
       "  <tbody>\n",
       "    <tr>\n",
       "      <th>0</th>\n",
       "      <td>1</td>\n",
       "      <td>Waffle Original</td>\n",
       "      <td>4</td>\n",
       "      <td>16</td>\n",
       "      <td>6/01/2025</td>\n",
       "    </tr>\n",
       "    <tr>\n",
       "      <th>1</th>\n",
       "      <td>2</td>\n",
       "      <td>Waffle Camote</td>\n",
       "      <td>4</td>\n",
       "      <td>9</td>\n",
       "      <td>7/01/2025</td>\n",
       "    </tr>\n",
       "    <tr>\n",
       "      <th>2</th>\n",
       "      <td>3</td>\n",
       "      <td>Waffle Lúcuma</td>\n",
       "      <td>4</td>\n",
       "      <td>12</td>\n",
       "      <td>8/01/2025</td>\n",
       "    </tr>\n",
       "    <tr>\n",
       "      <th>3</th>\n",
       "      <td>4</td>\n",
       "      <td>Waffle de Manzana</td>\n",
       "      <td>4</td>\n",
       "      <td>12</td>\n",
       "      <td>8/01/2025</td>\n",
       "    </tr>\n",
       "    <tr>\n",
       "      <th>4</th>\n",
       "      <td>5</td>\n",
       "      <td>Pan Mixto</td>\n",
       "      <td>8</td>\n",
       "      <td>12</td>\n",
       "      <td>8/01/2025</td>\n",
       "    </tr>\n",
       "  </tbody>\n",
       "</table>\n",
       "</div>"
      ],
      "text/plain": [
       "   id_venta           producto  cantidad  precio_unitario      fecha\n",
       "0         1    Waffle Original         4               16  6/01/2025\n",
       "1         2      Waffle Camote         4                9  7/01/2025\n",
       "2         3      Waffle Lúcuma         4               12  8/01/2025\n",
       "3         4  Waffle de Manzana         4               12  8/01/2025\n",
       "4         5          Pan Mixto         8               12  8/01/2025"
      ]
     },
     "execution_count": 22,
     "metadata": {},
     "output_type": "execute_result"
    }
   ],
   "source": [
    "try:\n",
    "    df = pd.read_csv('classes.csv', sep=';', encoding='latin-1')\n",
    "except Exception as e:\n",
    "    print(f\"Error al cargar el CSV: {e}\")\n",
    "\n",
    "df.head()"
   ]
  },
  {
   "cell_type": "code",
   "execution_count": 25,
   "id": "f13c10d8",
   "metadata": {},
   "outputs": [
    {
     "name": "stdout",
     "output_type": "stream",
     "text": [
      "Total de la venta_prueva = 12\n",
      "Venta(ID=1, Producto='waffle', Cantidad=4, PrecioUnitario=3.00, Fecha='01/01/2025', Total=12.00)\n",
      "[Venta(ID=1, Producto='waffle', Cantidad=4, PrecioUnitario=3.00, Fecha='01/01/2025', Total=12.00), Venta(ID=2, Producto='Pan Camote', Cantidad=8, PrecioUnitario=10.00, Fecha='10/01/2025', Total=80.00)]\n"
     ]
    }
   ],
   "source": [
    "venta_prueba = Venta(1,\"waffle\",4,3,\"01/01/2025\")\n",
    "print(f\"Total de la venta_prueva = {venta_prueba.calcular_total_venta()}\")\n",
    "print(venta_prueba)\n",
    "\n",
    "venta_ejemplo2 = Venta(id_venta=2, producto=\"Pan Camote\", cantidad=8, precio_unitario=10.0, fecha=\"10/01/2025\")\n",
    "mis_ventas = [venta_prueba, venta_ejemplo2]\n",
    "print(mis_ventas)"
   ]
  }
 ],
 "metadata": {
  "kernelspec": {
   "display_name": "venv",
   "language": "python",
   "name": "python3"
  },
  "language_info": {
   "codemirror_mode": {
    "name": "ipython",
    "version": 3
   },
   "file_extension": ".py",
   "mimetype": "text/x-python",
   "name": "python",
   "nbconvert_exporter": "python",
   "pygments_lexer": "ipython3",
   "version": "3.13.3"
  }
 },
 "nbformat": 4,
 "nbformat_minor": 5
}
